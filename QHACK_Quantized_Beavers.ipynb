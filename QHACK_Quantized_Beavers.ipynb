{
  "cells": [
    {
      "cell_type": "code",
      "execution_count": 61,
      "metadata": {
        "id": "LUlCsdkqMktV"
      },
      "outputs": [],
      "source": [
        "# pylint: disable=line-too-long\n",
        "from qiskit.algorithms import VQE, NumPyMinimumEigensolver\n",
        "from qiskit_nature.algorithms import (GroundStateEigensolver,\n",
        "                                      NumPyMinimumEigensolverFactory)\n",
        "from qiskit_nature.drivers import Molecule\n",
        "from qiskit_nature.drivers.second_quantization import (\n",
        "    ElectronicStructureMoleculeDriver, ElectronicStructureDriverType)\n",
        "from qiskit_nature.transformers.second_quantization.electronic import FreezeCoreTransformer\n",
        "from qiskit_nature.problems.second_quantization import ElectronicStructureProblem\n",
        "from qiskit_nature.converters.second_quantization import QubitConverter\n",
        "from qiskit_nature.mappers.second_quantization import ParityMapper\n",
        "# pylint: enable=line-too-long\n",
        "\n",
        "import matplotlib.pyplot as plt\n",
        "import numpy as np\n",
        "from qiskit_nature.circuit.library import UCCSD, HartreeFock\n",
        "from qiskit.circuit.library import EfficientSU2\n",
        "from qiskit.algorithms.optimizers import COBYLA, SPSA, SLSQP\n",
        "from qiskit.opflow import TwoQubitReduction\n",
        "from qiskit import BasicAer, Aer\n",
        "from qiskit.utils import QuantumInstance\n",
        "from qiskit.utils.mitigation import CompleteMeasFitter\n",
        "from qiskit.providers.aer.noise import NoiseModel\n",
        "from qiskit.circuit import QuantumCircuit, ParameterVector\n",
        "from qiskit_ibm_provider import IBMProvider\n",
        "\n"
      ]
    },
    {
      "cell_type": "code",
      "execution_count": 31,
      "metadata": {},
      "outputs": [],
      "source": [
        "def HEA_naive(num_q, depth):\n",
        "    circuit = QuantumCircuit(num_q)\n",
        "    params = ParameterVector(\"theta\", length=num_q * (3 * depth + 2))\n",
        "    counter = 0\n",
        "    for q in range(num_q):\n",
        "        circuit.rx(params[counter], q)\n",
        "        counter += 1\n",
        "        circuit.rz(params[counter], q)\n",
        "        counter += 1\n",
        "    for d in range(depth):\n",
        "        for q in range(num_q - 1):\n",
        "            circuit.cx(q, q + 1)\n",
        "        for q in range(num_q):\n",
        "            circuit.rz(params[counter], q)\n",
        "            counter += 1\n",
        "            circuit.rx(params[counter], q)\n",
        "            counter += 1\n",
        "            circuit.rz(params[counter], q)\n",
        "            counter += 1\n",
        "    return circuit, params\n"
      ]
    },
    {
      "cell_type": "code",
      "execution_count": 32,
      "metadata": {},
      "outputs": [],
      "source": [
        "qubit_converter = QubitConverter(ParityMapper(), two_qubit_reduction=True)\n",
        "numpy_solver = NumPyMinimumEigensolver()"
      ]
    },
    {
      "cell_type": "code",
      "execution_count": 34,
      "metadata": {},
      "outputs": [],
      "source": [
        "def exact_solver(problem):\n",
        "    calc = GroundStateEigensolver(qubit_converter, numpy_solver)\n",
        "    result = calc.solve(problem)\n",
        "    return result\n"
      ]
    },
    {
      "cell_type": "code",
      "execution_count": 36,
      "metadata": {},
      "outputs": [],
      "source": [
        "def vqe_solver(problem, circuit):\n",
        "    calc = GroundStateEigensolver(qubit_converter, circuit)\n",
        "    result = calc.solve(problem)\n",
        "    return result\n"
      ]
    },
    {
      "cell_type": "code",
      "execution_count": 60,
      "metadata": {
        "colab": {
          "base_uri": "https://localhost:8080/"
        },
        "id": "tyuEbph-FlWv",
        "outputId": "ee2ffe8f-da77-443e-ebf7-5faf556d3e89"
      },
      "outputs": [
        {
          "name": "stdout",
          "output_type": "stream",
          "text": [
            "Length 0.5 VQE Energy -12.945562594463 Exact Energy -13.661083921447\n",
            "Length 0.7 VQE Energy -13.885811389982 Exact Energy -14.849662499682\n",
            "Length 0.8999999999999999 VQE Energy -14.085497378178 Exact Energy -15.344848241984\n",
            "Length 1.0999999999999999 VQE Energy -14.657891272093 Exact Energy -15.528475832701\n",
            "Length 1.2999999999999998 VQE Energy -14.542512000283 Exact Energy -15.568625400665\n",
            "Length 1.4999999999999998 VQE Energy -14.571908030765 Exact Energy -15.540966611742\n",
            "Length 1.6999999999999997 VQE Energy -14.683311814689 Exact Energy -15.481291621499\n",
            "Length 1.8999999999999997 VQE Energy -14.903507360687 Exact Energy -15.407692903669\n",
            "Length 2.1 VQE Energy -14.849049033177 Exact Energy -15.412340363928\n",
            "Length 2.5 VQE Energy -14.867154220942 Exact Energy -15.332919960557\n",
            "Length 2.9 VQE Energy -14.760192900783 Exact Energy -15.307874432406\n",
            "Length 3.3 VQE Energy -14.917795956413 Exact Energy -15.305817921747\n",
            "Length 3.6999999999999997 VQE Energy -14.917149029604 Exact Energy -15.305905640248\n"
          ]
        }
      ],
      "source": [
        "backend = BasicAer.get_backend(\"statevector_simulator\")\n",
        "qi = QuantumInstance(backend)\n",
        "distances1 = np.arange(0.5, 2.0, 0.2)\n",
        "distances2 = np.arange(2.1, 4.0, 0.4)\n",
        "distances = np.concatenate([distances1, distances2])\n",
        "exact_energies = []\n",
        "vqe_energies = []\n",
        "vqe_energy_numbers = []\n",
        "exact_energy_numbers = [] \n",
        "\n",
        "optimizer = SLSQP(maxiter=5)\n",
        "for dist in distances:\n",
        "    molecule = Molecule(geometry=[\n",
        "        [\"H\", [0.0, 0.0, dist]],\n",
        "        [\"Be\", [0.0, 0.0, 0.0]],\n",
        "        [\"H\", [0.0, 0.0, -dist]]\n",
        "    ],\n",
        "    multiplicity=1,  # = 2*spin + 1\n",
        "    charge=0,\n",
        "    )\n",
        "\n",
        "    driver = ElectronicStructureMoleculeDriver(molecule=molecule, basis=\"sto3g\", driver_type=ElectronicStructureDriverType.PYSCF)\n",
        "    # Get properties\n",
        "    properties = driver.run()\n",
        "    num_particles = (properties.get_property(\"ParticleNumber\").num_particles)\n",
        "    num_spin_orbitals = int(properties.get_property(\"ParticleNumber\").num_spin_orbitals)\n",
        "    # Define Problem, Use freeze core approximation, remove orbitals.\n",
        "    problem = ElectronicStructureProblem(driver, [FreezeCoreTransformer(freeze_core=True, remove_orbitals=[4, 5])])\n",
        "    second_q_ops = problem.second_q_ops()  # Get 2nd Quant OP\n",
        "    num_spin_orbitals = problem.num_spin_orbitals\n",
        "    num_particles = problem.num_particles\n",
        "    '''\n",
        "    mapper = ParityMapper()  # Set Mapper\n",
        "    hamiltonian = second_q_ops['ParticleNumber']  # Set Hamiltonian\n",
        "    # Do two qubit reduction\n",
        "    converter = QubitConverter(mapper, two_qubit_reduction=True)\n",
        "    reducer = TwoQubitReduction(num_particles)\n",
        "    qubit_op = converter.convert(hamiltonian)\n",
        "    qubit_op = reducer.convert(qubit_op)\n",
        "    '''\n",
        "    exact_energies.append(exact_solver(problem))\n",
        "    circuit = HEA_naive(6,3)[0]\n",
        "    VQE_circuit = VQE(ansatz=circuit, quantum_instance=qi, optimizer=optimizer)\n",
        "    vqe_energies.append(vqe_solver(problem, VQE_circuit))\n",
        "    \n",
        "    vqe_energy = str(vqe_energies[-1]).split(\":\")[5].split()[0]\n",
        "    vqe_energy_numbers.append(float(vqe_energy))\n",
        "    exact_energy = str(exact_energies[-1]).split(\":\")[5].split()[0]\n",
        "    exact_energy_numbers.append(float(exact_energy))\n",
        "    print(f\"Length {dist} VQE Energy {vqe_energy} Exact Energy {exact_energy}\")\n",
        "\n",
        "\n",
        "\n"
      ]
    },
    {
      "cell_type": "code",
      "execution_count": 62,
      "metadata": {},
      "outputs": [
        {
          "name": "stderr",
          "output_type": "stream",
          "text": [
            "/Library/Frameworks/Python.framework/Versions/3.9/lib/python3.9/site-packages/urllib3/connection.py:379: SystemTimeWarning: System time is way off (before 2020-07-01). This will probably lead to SSL verification errors\n",
            "  warnings.warn(\n",
            "/Library/Frameworks/Python.framework/Versions/3.9/lib/python3.9/site-packages/urllib3/connection.py:379: SystemTimeWarning: System time is way off (before 2020-07-01). This will probably lead to SSL verification errors\n",
            "  warnings.warn(\n",
            "/Library/Frameworks/Python.framework/Versions/3.9/lib/python3.9/site-packages/urllib3/connection.py:379: SystemTimeWarning: System time is way off (before 2020-07-01). This will probably lead to SSL verification errors\n",
            "  warnings.warn(\n",
            "/Library/Frameworks/Python.framework/Versions/3.9/lib/python3.9/site-packages/urllib3/connection.py:379: SystemTimeWarning: System time is way off (before 2020-07-01). This will probably lead to SSL verification errors\n",
            "  warnings.warn(\n"
          ]
        },
        {
          "ename": "IBMInputValueError",
          "evalue": "'Hub/group/project qhack-event/main/project-1 could not be found for this account.'",
          "output_type": "error",
          "traceback": [
            "\u001b[0;31m---------------------------------------------------------------------------\u001b[0m",
            "\u001b[0;31mIBMInputValueError\u001b[0m                        Traceback (most recent call last)",
            "Cell \u001b[0;32mIn[62], line 8\u001b[0m\n\u001b[1;32m      5\u001b[0m hgp \u001b[39m=\u001b[39m \u001b[39mf\u001b[39m\u001b[39m\"\u001b[39m\u001b[39m{\u001b[39;00mhub\u001b[39m}\u001b[39;00m\u001b[39m/\u001b[39m\u001b[39m{\u001b[39;00mgroup\u001b[39m}\u001b[39;00m\u001b[39m/\u001b[39m\u001b[39m{\u001b[39;00mproject\u001b[39m}\u001b[39;00m\u001b[39m\"\u001b[39m\n\u001b[1;32m      7\u001b[0m provider \u001b[39m=\u001b[39m IBMProvider()\n\u001b[0;32m----> 8\u001b[0m backend \u001b[39m=\u001b[39m provider\u001b[39m.\u001b[39;49mget_backend(backend_name, instance\u001b[39m=\u001b[39;49mhgp)\n\u001b[1;32m     12\u001b[0m qi \u001b[39m=\u001b[39m QuantumInstance(backend)\n\u001b[1;32m     13\u001b[0m distances1 \u001b[39m=\u001b[39m np\u001b[39m.\u001b[39marange(\u001b[39m0.5\u001b[39m, \u001b[39m2.0\u001b[39m, \u001b[39m0.2\u001b[39m)\n",
            "File \u001b[0;32m/Library/Frameworks/Python.framework/Versions/3.9/lib/python3.9/site-packages/qiskit_ibm_provider/ibm_provider.py:646\u001b[0m, in \u001b[0;36mIBMProvider.get_backend\u001b[0;34m(self, name, instance, **kwargs)\u001b[0m\n\u001b[1;32m    629\u001b[0m \u001b[39m\"\"\"Return a single backend matching the specified filtering.\u001b[39;00m\n\u001b[1;32m    630\u001b[0m \n\u001b[1;32m    631\u001b[0m \u001b[39mArgs:\u001b[39;00m\n\u001b[0;32m   (...)\u001b[0m\n\u001b[1;32m    643\u001b[0m \u001b[39m        `project` are specified.\u001b[39;00m\n\u001b[1;32m    644\u001b[0m \u001b[39m\"\"\"\u001b[39;00m\n\u001b[1;32m    645\u001b[0m \u001b[39m# pylint: disable=arguments-differ\u001b[39;00m\n\u001b[0;32m--> 646\u001b[0m backends \u001b[39m=\u001b[39m \u001b[39mself\u001b[39;49m\u001b[39m.\u001b[39;49mbackends(name, instance\u001b[39m=\u001b[39;49minstance, \u001b[39m*\u001b[39;49m\u001b[39m*\u001b[39;49mkwargs)\n\u001b[1;32m    647\u001b[0m \u001b[39mif\u001b[39;00m \u001b[39mlen\u001b[39m(backends) \u001b[39m>\u001b[39m \u001b[39m1\u001b[39m:\n\u001b[1;32m    648\u001b[0m     \u001b[39mraise\u001b[39;00m QiskitBackendNotFoundError(\n\u001b[1;32m    649\u001b[0m         \u001b[39m\"\u001b[39m\u001b[39mMore than one backend matches the criteria\u001b[39m\u001b[39m\"\u001b[39m\n\u001b[1;32m    650\u001b[0m     )\n",
            "File \u001b[0;32m/Library/Frameworks/Python.framework/Versions/3.9/lib/python3.9/site-packages/qiskit_ibm_provider/ibm_provider.py:547\u001b[0m, in \u001b[0;36mIBMProvider.backends\u001b[0;34m(self, name, filters, min_num_qubits, instance, **kwargs)\u001b[0m\n\u001b[1;32m    527\u001b[0m \u001b[39m\"\"\"Return all backends accessible via this account, subject to optional filtering.\u001b[39;00m\n\u001b[1;32m    528\u001b[0m \n\u001b[1;32m    529\u001b[0m \u001b[39mArgs:\u001b[39;00m\n\u001b[0;32m   (...)\u001b[0m\n\u001b[1;32m    544\u001b[0m \u001b[39m    The list of available backends that match the filter.\u001b[39;00m\n\u001b[1;32m    545\u001b[0m \u001b[39m\"\"\"\u001b[39;00m\n\u001b[1;32m    546\u001b[0m \u001b[39m# pylint: disable=arguments-differ\u001b[39;00m\n\u001b[0;32m--> 547\u001b[0m \u001b[39mreturn\u001b[39;00m \u001b[39mself\u001b[39;49m\u001b[39m.\u001b[39;49m_backend\u001b[39m.\u001b[39;49mbackends(\n\u001b[1;32m    548\u001b[0m     name\u001b[39m=\u001b[39;49mname,\n\u001b[1;32m    549\u001b[0m     filters\u001b[39m=\u001b[39;49mfilters,\n\u001b[1;32m    550\u001b[0m     min_num_qubits\u001b[39m=\u001b[39;49mmin_num_qubits,\n\u001b[1;32m    551\u001b[0m     instance\u001b[39m=\u001b[39;49minstance,\n\u001b[1;32m    552\u001b[0m     \u001b[39m*\u001b[39;49m\u001b[39m*\u001b[39;49mkwargs,\n\u001b[1;32m    553\u001b[0m )\n",
            "File \u001b[0;32m/Library/Frameworks/Python.framework/Versions/3.9/lib/python3.9/site-packages/qiskit_ibm_provider/ibm_backend_service.py:142\u001b[0m, in \u001b[0;36mIBMBackendService.backends\u001b[0;34m(self, name, filters, min_num_qubits, instance, dynamic_circuits, **kwargs)\u001b[0m\n\u001b[1;32m    140\u001b[0m backends: List[IBMBackend] \u001b[39m=\u001b[39m []\n\u001b[1;32m    141\u001b[0m \u001b[39mif\u001b[39;00m instance:\n\u001b[0;32m--> 142\u001b[0m     hgp \u001b[39m=\u001b[39m \u001b[39mself\u001b[39;49m\u001b[39m.\u001b[39;49m_provider\u001b[39m.\u001b[39;49m_get_hgp(instance\u001b[39m=\u001b[39;49minstance)\n\u001b[1;32m    143\u001b[0m     backends \u001b[39m=\u001b[39m \u001b[39mlist\u001b[39m(hgp\u001b[39m.\u001b[39mbackends\u001b[39m.\u001b[39mvalues())\n\u001b[1;32m    144\u001b[0m \u001b[39melse\u001b[39;00m:\n",
            "File \u001b[0;32m/Library/Frameworks/Python.framework/Versions/3.9/lib/python3.9/site-packages/qiskit_ibm_provider/ibm_provider.py:367\u001b[0m, in \u001b[0;36mIBMProvider._get_hgp\u001b[0;34m(self, instance, backend_name)\u001b[0m\n\u001b[1;32m    365\u001b[0m _ \u001b[39m=\u001b[39m from_instance_format(instance)  \u001b[39m# Verify format\u001b[39;00m\n\u001b[1;32m    366\u001b[0m \u001b[39mif\u001b[39;00m instance \u001b[39mnot\u001b[39;00m \u001b[39min\u001b[39;00m \u001b[39mself\u001b[39m\u001b[39m.\u001b[39m_hgps:\n\u001b[0;32m--> 367\u001b[0m     \u001b[39mraise\u001b[39;00m IBMInputValueError(\n\u001b[1;32m    368\u001b[0m         \u001b[39mf\u001b[39m\u001b[39m\"\u001b[39m\u001b[39mHub/group/project \u001b[39m\u001b[39m{\u001b[39;00minstance\u001b[39m}\u001b[39;00m\u001b[39m \u001b[39m\u001b[39m\"\u001b[39m\n\u001b[1;32m    369\u001b[0m         \u001b[39m\"\u001b[39m\u001b[39mcould not be found for this account.\u001b[39m\u001b[39m\"\u001b[39m\n\u001b[1;32m    370\u001b[0m     )\n\u001b[1;32m    371\u001b[0m \u001b[39mif\u001b[39;00m backend_name \u001b[39mand\u001b[39;00m \u001b[39mnot\u001b[39;00m \u001b[39mself\u001b[39m\u001b[39m.\u001b[39m_hgps[instance]\u001b[39m.\u001b[39mbackend(backend_name):\n\u001b[1;32m    372\u001b[0m     \u001b[39mraise\u001b[39;00m QiskitBackendNotFoundError(\n\u001b[1;32m    373\u001b[0m         \u001b[39mf\u001b[39m\u001b[39m\"\u001b[39m\u001b[39mBackend \u001b[39m\u001b[39m{\u001b[39;00mbackend_name\u001b[39m}\u001b[39;00m\u001b[39m cannot be found in \u001b[39m\u001b[39m\"\u001b[39m\n\u001b[1;32m    374\u001b[0m         \u001b[39mf\u001b[39m\u001b[39m\"\u001b[39m\u001b[39mhub/group/project \u001b[39m\u001b[39m{\u001b[39;00minstance\u001b[39m}\u001b[39;00m\u001b[39m\"\u001b[39m\n\u001b[1;32m    375\u001b[0m     )\n",
            "\u001b[0;31mIBMInputValueError\u001b[0m: 'Hub/group/project qhack-event/main/project-1 could not be found for this account.'"
          ]
        }
      ],
      "source": [
        "hub = \"qhack-event\"\n",
        "group = \"main\"\n",
        "project = \"project-1\"\n",
        "backend_name = \"ibm_perth\"\n",
        "hgp = f\"{hub}/{group}/{project}\"\n",
        "\n",
        "provider = IBMProvider()\n",
        "backend = provider.get_backend(backend_name, instance=hgp)\n",
        "\n",
        "\n",
        "\n",
        "qi = QuantumInstance(backend)\n",
        "distances1 = np.arange(0.5, 2.0, 0.2)\n",
        "distances2 = np.arange(2.1, 4.0, 0.4)\n",
        "distances = np.concatenate([distances1, distances2])\n",
        "exact_energies = []\n",
        "vqe_energies = []\n",
        "vqe_energy_numbers = []\n",
        "exact_energy_numbers = []\n",
        "\n",
        "optimizer = SLSQP(maxiter=5)\n",
        "for dist in distances:\n",
        "    molecule = Molecule(geometry=[\n",
        "        [\"H\", [0.0, 0.0, dist]],\n",
        "        [\"Be\", [0.0, 0.0, 0.0]],\n",
        "        [\"H\", [0.0, 0.0, -dist]]\n",
        "    ],\n",
        "        multiplicity=1,  # = 2*spin + 1\n",
        "        charge=0,\n",
        "    )\n",
        "\n",
        "    driver = ElectronicStructureMoleculeDriver(\n",
        "        molecule=molecule, basis=\"sto3g\", driver_type=ElectronicStructureDriverType.PYSCF)\n",
        "    # Get properties\n",
        "    properties = driver.run()\n",
        "    num_particles = (properties.get_property(\"ParticleNumber\").num_particles)\n",
        "    num_spin_orbitals = int(properties.get_property(\n",
        "        \"ParticleNumber\").num_spin_orbitals)\n",
        "    # Define Problem, Use freeze core approximation, remove orbitals.\n",
        "    problem = ElectronicStructureProblem(\n",
        "        driver, [FreezeCoreTransformer(freeze_core=True, remove_orbitals=[4, 5])])\n",
        "    second_q_ops = problem.second_q_ops()  # Get 2nd Quant OP\n",
        "    num_spin_orbitals = problem.num_spin_orbitals\n",
        "    num_particles = problem.num_particles\n",
        "  \n",
        "    exact_energies.append(exact_solver(problem))\n",
        "    circuit = HEA_naive(6, 3)[0]\n",
        "    VQE_circuit = VQE(ansatz=circuit, quantum_instance=qi, optimizer=optimizer)\n",
        "    vqe_energies.append(vqe_solver(problem, VQE_circuit))\n",
        "\n",
        "    vqe_energy = str(vqe_energies[-1]).split(\":\")[5].split()[0]\n",
        "    vqe_energy_numbers.append(float(vqe_energy))\n",
        "    exact_energy = str(exact_energies[-1]).split(\":\")[5].split()[0]\n",
        "    exact_energy_numbers.append(float(exact_energy))\n",
        "    print(f\"Length {dist} VQE Energy {vqe_energy} Exact Energy {exact_energy}\")\n"
      ]
    },
    {
      "cell_type": "code",
      "execution_count": 56,
      "metadata": {},
      "outputs": [
        {
          "data": {
            "text/plain": [
              "(-15.7, -12.0)"
            ]
          },
          "execution_count": 56,
          "metadata": {},
          "output_type": "execute_result"
        },
        {
          "data": {
            "image/png": "[encoded data removed]",
            "text/plain": [
              "<Figure size 640x480 with 1 Axes>"
            ]
          },
          "metadata": {},
          "output_type": "display_data"
        }
      ],
      "source": [
        "x = distances\n",
        "y = vqe_energy_numbers\n",
        "y2 = exact_energy_numbers\n",
        "plt.plot(x, y)\n",
        "plt.plot(x, y2)\n",
        "plt.ylim(-15.7, -12)"
      ]
    }
  ],
  "metadata": {
    "colab": {
      "provenance": []
    },
    "kernelspec": {
      "display_name": "Python 3",
      "language": "python",
      "name": "python3"
    },
    "language_info": {
      "codemirror_mode": {
        "name": "ipython",
        "version": 3
      },
      "file_extension": ".py",
      "mimetype": "text/x-python",
      "name": "python",
      "nbconvert_exporter": "python",
      "pygments_lexer": "ipython3",
      "version": "3.9.2"
    },
    "vscode": {
      "interpreter": {
        "hash": "7812ea015bdcee6f23a998adcdd2ef97c151c0c241b7b7070987d9313e41299d"
      }
    }
  },
  "nbformat": 4,
  "nbformat_minor": 0
}
