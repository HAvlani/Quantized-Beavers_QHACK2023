{
  "cells": [
    {
      "cell_type": "code",
      "execution_count": 2,
      "metadata": {
        "id": "LUlCsdkqMktV"
      },
      "outputs": [
        {
          "name": "stderr",
          "output_type": "stream",
          "text": [
            "/var/folders/85/nzm_vj2j78921yj8smfjsrx00000gn/T/ipykernel_30205/3338669671.py:3: NatureDeprecationWarning: The qiskit_nature.algorithms.excited_state_solvers package is deprecated as of version 0.5.0 and will be removed no sooner than 3 months after the release. Instead use the qiskit_nature.second_q.algorithms.excited_state_solvers package.\n",
            "  from qiskit_nature.algorithms import (GroundStateEigensolver,\n",
            "/var/folders/85/nzm_vj2j78921yj8smfjsrx00000gn/T/ipykernel_30205/3338669671.py:3: NatureDeprecationWarning: The qiskit_nature.algorithms.pes_sampler package is deprecated as of version 0.5.0 and will be removed no sooner than 3 months after the release . Please refer to 'https://github.com/Qiskit/qiskit-nature/issues/750' for additional information regarding 'extrapolators'.\n",
            "  from qiskit_nature.algorithms import (GroundStateEigensolver,\n"
          ]
        }
      ],
      "source": [
        "# pylint: disable=line-too-long\n",
        "from qiskit.algorithms import VQE, NumPyMinimumEigensolver\n",
        "from qiskit_nature.algorithms import (GroundStateEigensolver,\n",
        "                                      NumPyMinimumEigensolverFactory)\n",
        "from qiskit_nature.drivers import Molecule\n",
        "from qiskit_nature.drivers.second_quantization import (\n",
        "    ElectronicStructureMoleculeDriver, ElectronicStructureDriverType)\n",
        "from qiskit_nature.transformers.second_quantization.electronic import FreezeCoreTransformer\n",
        "from qiskit_nature.problems.second_quantization import ElectronicStructureProblem\n",
        "from qiskit_nature.converters.second_quantization import QubitConverter\n",
        "from qiskit_nature.mappers.second_quantization import ParityMapper\n",
        "# pylint: enable=line-too-long\n",
        "\n",
        "import matplotlib.pyplot as plt\n",
        "import numpy as np\n",
        "from qiskit_nature.circuit.library import UCCSD, HartreeFock\n",
        "from qiskit.circuit.library import EfficientSU2\n",
        "from qiskit.algorithms.optimizers import COBYLA, SPSA, SLSQP\n",
        "from qiskit.opflow import TwoQubitReduction\n",
        "from qiskit import BasicAer, Aer\n",
        "from qiskit.utils import QuantumInstance\n",
        "from qiskit.utils.mitigation import CompleteMeasFitter\n",
        "from qiskit.providers.aer.noise import NoiseModel\n",
        "from qiskit.circuit import QuantumCircuit, ParameterVector\n",
        "from qiskit_ibm_provider import IBMProvider\n",
        "\n"
      ]
    },
    {
      "cell_type": "code",
      "execution_count": 3,
      "metadata": {},
      "outputs": [],
      "source": [
        "def HEA_naive(num_q, depth):\n",
        "    circuit = QuantumCircuit(num_q)\n",
        "    params = ParameterVector(\"theta\", length=num_q * (3 * depth + 2))\n",
        "    counter = 0\n",
        "    for q in range(num_q):\n",
        "        circuit.rx(params[counter], q)\n",
        "        counter += 1\n",
        "        circuit.rz(params[counter], q)\n",
        "        counter += 1\n",
        "    for d in range(depth):\n",
        "        for q in range(num_q - 1):\n",
        "            circuit.cx(q, q + 1)\n",
        "        for q in range(num_q):\n",
        "            circuit.rz(params[counter], q)\n",
        "            counter += 1\n",
        "            circuit.rx(params[counter], q)\n",
        "            counter += 1\n",
        "            circuit.rz(params[counter], q)\n",
        "            counter += 1\n",
        "    return circuit, params\n"
      ]
    },
    {
      "cell_type": "code",
      "execution_count": 4,
      "metadata": {},
      "outputs": [],
      "source": [
        "qubit_converter = QubitConverter(ParityMapper(), two_qubit_reduction=True)\n",
        "numpy_solver = NumPyMinimumEigensolver()"
      ]
    },
    {
      "cell_type": "code",
      "execution_count": 5,
      "metadata": {},
      "outputs": [],
      "source": [
        "def exact_solver(problem):\n",
        "    calc = GroundStateEigensolver(qubit_converter, numpy_solver)\n",
        "    result = calc.solve(problem)\n",
        "    return result\n"
      ]
    },
    {
      "cell_type": "code",
      "execution_count": 6,
      "metadata": {},
      "outputs": [],
      "source": [
        "def vqe_solver(problem, circuit):\n",
        "    calc = GroundStateEigensolver(qubit_converter, circuit)\n",
        "    result = calc.solve(problem)\n",
        "    return result\n"
      ]
    },
    {
      "cell_type": "code",
      "execution_count": 8,
      "metadata": {
        "colab": {
          "base_uri": "https://localhost:8080/"
        },
        "id": "tyuEbph-FlWv",
        "outputId": "ee2ffe8f-da77-443e-ebf7-5faf556d3e89"
      },
      "outputs": [
        {
          "name": "stdout",
          "output_type": "stream",
          "text": [
            "Length 0.5 VQE Energy -13.660956072177 Exact Energy -13.661083921447\n",
            "Length 0.7 VQE Energy -14.847348061869 Exact Energy -14.849662499682\n",
            "Length 0.8999999999999999 VQE Energy -15.342496917479 Exact Energy -15.344848241984\n",
            "Length 1.0999999999999999 VQE Energy -15.526408052503 Exact Energy -15.528475832701\n",
            "Length 1.2999999999999998 VQE Energy -15.564426913815 Exact Energy -15.568625400665\n",
            "Length 1.4999999999999998 VQE Energy -15.538040291632 Exact Energy -15.540966611742\n",
            "Length 1.6999999999999997 VQE Energy -15.47590364596 Exact Energy -15.481291621499\n",
            "Length 1.8999999999999997 VQE Energy -15.183995281946 Exact Energy -15.407692903669\n",
            "Length 2.1 VQE Energy -15.373065120864 Exact Energy -15.412340363928\n",
            "Length 2.5 VQE Energy -15.287031721607 Exact Energy -15.332919960557\n",
            "Length 2.9 VQE Energy -15.201520266618 Exact Energy -15.307874432406\n",
            "Length 3.3 VQE Energy -15.286166242626 Exact Energy -15.305817921747\n",
            "Length 3.6999999999999997 VQE Energy -15.276974442384 Exact Energy -15.305905640248\n"
          ]
        }
      ],
      "source": [
        "backend = BasicAer.get_backend(\"statevector_simulator\")\n",
        "qi = QuantumInstance(backend)\n",
        "distances1 = np.arange(0.5, 2.0, 0.2)\n",
        "distances2 = np.arange(2.1, 4.0, 0.4)\n",
        "distances = np.concatenate([distances1, distances2])\n",
        "exact_energies = []\n",
        "vqe_energies = []\n",
        "vqe_energy_numbers = []\n",
        "exact_energy_numbers = [] \n",
        "\n",
        "optimizer = SLSQP()\n",
        "for dist in distances:\n",
        "    molecule = Molecule(geometry=[\n",
        "        [\"H\", [0.0, 0.0, dist]],\n",
        "        [\"Be\", [0.0, 0.0, 0.0]],\n",
        "        [\"H\", [0.0, 0.0, -dist]]\n",
        "    ],\n",
        "    multiplicity=1,  # = 2*spin + 1\n",
        "    charge=0,\n",
        "    )\n",
        "\n",
        "    driver = ElectronicStructureMoleculeDriver(molecule=molecule, basis=\"sto3g\", driver_type=ElectronicStructureDriverType.PYSCF)\n",
        "    # Get properties\n",
        "    properties = driver.run()\n",
        "    num_particles = (properties.get_property(\"ParticleNumber\").num_particles)\n",
        "    num_spin_orbitals = int(properties.get_property(\"ParticleNumber\").num_spin_orbitals)\n",
        "    # Define Problem, Use freeze core approximation, remove orbitals.\n",
        "    problem = ElectronicStructureProblem(driver, [FreezeCoreTransformer(freeze_core=True, remove_orbitals=[4, 5])])\n",
        "    second_q_ops = problem.second_q_ops()  # Get 2nd Quant OP\n",
        "    num_spin_orbitals = problem.num_spin_orbitals\n",
        "    num_particles = problem.num_particles\n",
        "    \n",
        "    exact_energies.append(exact_solver(problem))\n",
        "    circuit = HEA_naive(6,3)[0]\n",
        "    VQE_circuit = VQE(ansatz=circuit, quantum_instance=qi, optimizer=optimizer)\n",
        "    vqe_energies.append(vqe_solver(problem, VQE_circuit))\n",
        "    \n",
        "    vqe_energy = str(vqe_energies[-1]).split(\":\")[5].split()[0]\n",
        "    vqe_energy_numbers.append(float(vqe_energy))\n",
        "    exact_energy = str(exact_energies[-1]).split(\":\")[5].split()[0]\n",
        "    exact_energy_numbers.append(float(exact_energy))\n",
        "    print(f\"Length {dist} VQE Energy {vqe_energy} Exact Energy {exact_energy}\")\n",
        "\n",
        "\n",
        "\n"
      ]
    },
    {
      "cell_type": "code",
      "execution_count": 7,
      "metadata": {},
      "outputs": [
        {
          "name": "stderr",
          "output_type": "stream",
          "text": [
            "/Library/Frameworks/Python.framework/Versions/3.9/lib/python3.9/site-packages/pyscf/lib/misc.py:46: H5pyDeprecationWarning: Using default_file_mode other than 'r' is deprecated. Pass the mode to h5py.File() instead.\n",
            "  h5py.get_config().default_file_mode = 'a'\n",
            "/var/folders/85/nzm_vj2j78921yj8smfjsrx00000gn/T/ipykernel_30205/1790638132.py:2: NatureDeprecationWarning: The qiskit_nature.algorithms.ground_state_solvers.GroundStateEigensolver class is deprecated as of version 0.5.0 and will be removed no sooner than 3 months after the release. Instead use the qiskit_nature.second_q.algorithms.ground_state_solvers.GroundStateEigensolver class.\n",
            "  calc = GroundStateEigensolver(qubit_converter, numpy_solver)\n",
            "/Library/Frameworks/Python.framework/Versions/3.9/lib/python3.9/site-packages/qiskit_ibm_provider/ibm_backend.py:431: UserWarning: The backend ibm_perth is currently paused.\n",
            "  warnings.warn(f\"The backend {self.name} is currently paused.\")\n"
          ]
        },
        {
          "ename": "KeyboardInterrupt",
          "evalue": "",
          "output_type": "error",
          "traceback": [
            "\u001b[0;31m---------------------------------------------------------------------------\u001b[0m",
            "\u001b[0;31mKeyboardInterrupt\u001b[0m                         Traceback (most recent call last)",
            "Cell \u001b[0;32mIn[7], line 49\u001b[0m\n\u001b[1;32m     47\u001b[0m circuit \u001b[39m=\u001b[39m HEA_naive(\u001b[39m6\u001b[39m, \u001b[39m3\u001b[39m)[\u001b[39m0\u001b[39m]\n\u001b[1;32m     48\u001b[0m VQE_circuit \u001b[39m=\u001b[39m VQE(ansatz\u001b[39m=\u001b[39mcircuit, quantum_instance\u001b[39m=\u001b[39mqi, optimizer\u001b[39m=\u001b[39moptimizer)\n\u001b[0;32m---> 49\u001b[0m vqe_energies\u001b[39m.\u001b[39mappend(vqe_solver(problem, VQE_circuit))\n\u001b[1;32m     51\u001b[0m vqe_energy \u001b[39m=\u001b[39m \u001b[39mstr\u001b[39m(vqe_energies[\u001b[39m-\u001b[39m\u001b[39m1\u001b[39m])\u001b[39m.\u001b[39msplit(\u001b[39m\"\u001b[39m\u001b[39m:\u001b[39m\u001b[39m\"\u001b[39m)[\u001b[39m5\u001b[39m]\u001b[39m.\u001b[39msplit()[\u001b[39m0\u001b[39m]\n\u001b[1;32m     52\u001b[0m vqe_energy_numbers\u001b[39m.\u001b[39mappend(\u001b[39mfloat\u001b[39m(vqe_energy))\n",
            "Cell \u001b[0;32mIn[6], line 3\u001b[0m, in \u001b[0;36mvqe_solver\u001b[0;34m(problem, circuit)\u001b[0m\n\u001b[1;32m      1\u001b[0m \u001b[39mdef\u001b[39;00m \u001b[39mvqe_solver\u001b[39m(problem, circuit):\n\u001b[1;32m      2\u001b[0m     calc \u001b[39m=\u001b[39m GroundStateEigensolver(qubit_converter, circuit)\n\u001b[0;32m----> 3\u001b[0m     result \u001b[39m=\u001b[39m calc\u001b[39m.\u001b[39;49msolve(problem)\n\u001b[1;32m      4\u001b[0m     \u001b[39mreturn\u001b[39;00m result\n",
            "File \u001b[0;32m/Library/Frameworks/Python.framework/Versions/3.9/lib/python3.9/site-packages/qiskit_nature/algorithms/ground_state_solvers/ground_state_eigensolver.py:100\u001b[0m, in \u001b[0;36mGroundStateEigensolver.solve\u001b[0;34m(self, problem, aux_operators)\u001b[0m\n\u001b[1;32m     81\u001b[0m \u001b[39m\"\"\"Compute Ground State properties.\u001b[39;00m\n\u001b[1;32m     82\u001b[0m \n\u001b[1;32m     83\u001b[0m \u001b[39mArgs:\u001b[39;00m\n\u001b[0;32m   (...)\u001b[0m\n\u001b[1;32m     97\u001b[0m \u001b[39m    :meth:`~.BaseProblem.interpret`.\u001b[39;00m\n\u001b[1;32m     98\u001b[0m \u001b[39m\"\"\"\u001b[39;00m\n\u001b[1;32m     99\u001b[0m main_operator, aux_ops \u001b[39m=\u001b[39m \u001b[39mself\u001b[39m\u001b[39m.\u001b[39mget_qubit_operators(problem, aux_operators)\n\u001b[0;32m--> 100\u001b[0m raw_mes_result \u001b[39m=\u001b[39m \u001b[39mself\u001b[39;49m\u001b[39m.\u001b[39;49m_solver\u001b[39m.\u001b[39;49mcompute_minimum_eigenvalue(main_operator, aux_ops)  \u001b[39m# type: ignore\u001b[39;00m\n\u001b[1;32m    102\u001b[0m result \u001b[39m=\u001b[39m problem\u001b[39m.\u001b[39minterpret(raw_mes_result)\n\u001b[1;32m    103\u001b[0m \u001b[39mreturn\u001b[39;00m result\n",
            "File \u001b[0;32m/Library/Frameworks/Python.framework/Versions/3.9/lib/python3.9/site-packages/qiskit/algorithms/minimum_eigen_solvers/vqe.py:546\u001b[0m, in \u001b[0;36mVQE.compute_minimum_eigenvalue\u001b[0;34m(self, operator, aux_operators)\u001b[0m\n\u001b[1;32m    542\u001b[0m     opt_result \u001b[39m=\u001b[39m \u001b[39mself\u001b[39m\u001b[39m.\u001b[39moptimizer(  \u001b[39m# pylint: disable=not-callable\u001b[39;00m\n\u001b[1;32m    543\u001b[0m         fun\u001b[39m=\u001b[39menergy_evaluation, x0\u001b[39m=\u001b[39minitial_point, jac\u001b[39m=\u001b[39mgradient, bounds\u001b[39m=\u001b[39mbounds\n\u001b[1;32m    544\u001b[0m     )\n\u001b[1;32m    545\u001b[0m \u001b[39melse\u001b[39;00m:\n\u001b[0;32m--> 546\u001b[0m     opt_result \u001b[39m=\u001b[39m \u001b[39mself\u001b[39;49m\u001b[39m.\u001b[39;49moptimizer\u001b[39m.\u001b[39;49mminimize(\n\u001b[1;32m    547\u001b[0m         fun\u001b[39m=\u001b[39;49menergy_evaluation, x0\u001b[39m=\u001b[39;49minitial_point, jac\u001b[39m=\u001b[39;49mgradient, bounds\u001b[39m=\u001b[39;49mbounds\n\u001b[1;32m    548\u001b[0m     )\n\u001b[1;32m    550\u001b[0m eval_time \u001b[39m=\u001b[39m time() \u001b[39m-\u001b[39m start_time\n\u001b[1;32m    552\u001b[0m result \u001b[39m=\u001b[39m VQEResult()\n",
            "File \u001b[0;32m/Library/Frameworks/Python.framework/Versions/3.9/lib/python3.9/site-packages/qiskit/algorithms/optimizers/scipy_optimizer.py:148\u001b[0m, in \u001b[0;36mSciPyOptimizer.minimize\u001b[0;34m(self, fun, x0, jac, bounds)\u001b[0m\n\u001b[1;32m    145\u001b[0m     swapped_deprecated_args \u001b[39m=\u001b[39m \u001b[39mTrue\u001b[39;00m\n\u001b[1;32m    146\u001b[0m     \u001b[39mself\u001b[39m\u001b[39m.\u001b[39m_options[\u001b[39m\"\u001b[39m\u001b[39mmaxfun\u001b[39m\u001b[39m\"\u001b[39m] \u001b[39m=\u001b[39m \u001b[39mself\u001b[39m\u001b[39m.\u001b[39m_options\u001b[39m.\u001b[39mpop(\u001b[39m\"\u001b[39m\u001b[39mmaxiter\u001b[39m\u001b[39m\"\u001b[39m)\n\u001b[0;32m--> 148\u001b[0m raw_result \u001b[39m=\u001b[39m minimize(\n\u001b[1;32m    149\u001b[0m     fun\u001b[39m=\u001b[39;49mfun,\n\u001b[1;32m    150\u001b[0m     x0\u001b[39m=\u001b[39;49mx0,\n\u001b[1;32m    151\u001b[0m     method\u001b[39m=\u001b[39;49m\u001b[39mself\u001b[39;49m\u001b[39m.\u001b[39;49m_method,\n\u001b[1;32m    152\u001b[0m     jac\u001b[39m=\u001b[39;49mjac,\n\u001b[1;32m    153\u001b[0m     bounds\u001b[39m=\u001b[39;49mbounds,\n\u001b[1;32m    154\u001b[0m     options\u001b[39m=\u001b[39;49m\u001b[39mself\u001b[39;49m\u001b[39m.\u001b[39;49m_options,\n\u001b[1;32m    155\u001b[0m     \u001b[39m*\u001b[39;49m\u001b[39m*\u001b[39;49m\u001b[39mself\u001b[39;49m\u001b[39m.\u001b[39;49m_kwargs,\n\u001b[1;32m    156\u001b[0m )\n\u001b[1;32m    157\u001b[0m \u001b[39mif\u001b[39;00m swapped_deprecated_args:\n\u001b[1;32m    158\u001b[0m     \u001b[39mself\u001b[39m\u001b[39m.\u001b[39m_options[\u001b[39m\"\u001b[39m\u001b[39mmaxiter\u001b[39m\u001b[39m\"\u001b[39m] \u001b[39m=\u001b[39m \u001b[39mself\u001b[39m\u001b[39m.\u001b[39m_options\u001b[39m.\u001b[39mpop(\u001b[39m\"\u001b[39m\u001b[39mmaxfun\u001b[39m\u001b[39m\"\u001b[39m)\n",
            "File \u001b[0;32m/Library/Frameworks/Python.framework/Versions/3.9/lib/python3.9/site-packages/scipy/optimize/_minimize.py:708\u001b[0m, in \u001b[0;36mminimize\u001b[0;34m(fun, x0, args, method, jac, hess, hessp, bounds, constraints, tol, callback, options)\u001b[0m\n\u001b[1;32m    705\u001b[0m     res \u001b[39m=\u001b[39m _minimize_cobyla(fun, x0, args, constraints, callback\u001b[39m=\u001b[39mcallback,\n\u001b[1;32m    706\u001b[0m                             \u001b[39m*\u001b[39m\u001b[39m*\u001b[39moptions)\n\u001b[1;32m    707\u001b[0m \u001b[39melif\u001b[39;00m meth \u001b[39m==\u001b[39m \u001b[39m'\u001b[39m\u001b[39mslsqp\u001b[39m\u001b[39m'\u001b[39m:\n\u001b[0;32m--> 708\u001b[0m     res \u001b[39m=\u001b[39m _minimize_slsqp(fun, x0, args, jac, bounds,\n\u001b[1;32m    709\u001b[0m                           constraints, callback\u001b[39m=\u001b[39;49mcallback, \u001b[39m*\u001b[39;49m\u001b[39m*\u001b[39;49moptions)\n\u001b[1;32m    710\u001b[0m \u001b[39melif\u001b[39;00m meth \u001b[39m==\u001b[39m \u001b[39m'\u001b[39m\u001b[39mtrust-constr\u001b[39m\u001b[39m'\u001b[39m:\n\u001b[1;32m    711\u001b[0m     res \u001b[39m=\u001b[39m _minimize_trustregion_constr(fun, x0, args, jac, hess, hessp,\n\u001b[1;32m    712\u001b[0m                                        bounds, constraints,\n\u001b[1;32m    713\u001b[0m                                        callback\u001b[39m=\u001b[39mcallback, \u001b[39m*\u001b[39m\u001b[39m*\u001b[39moptions)\n",
            "File \u001b[0;32m/Library/Frameworks/Python.framework/Versions/3.9/lib/python3.9/site-packages/scipy/optimize/_slsqp_py.py:374\u001b[0m, in \u001b[0;36m_minimize_slsqp\u001b[0;34m(func, x0, args, jac, bounds, constraints, maxiter, ftol, iprint, disp, eps, callback, finite_diff_rel_step, **unknown_options)\u001b[0m\n\u001b[1;32m    371\u001b[0m     xu[infbnd[:, \u001b[39m1\u001b[39m]] \u001b[39m=\u001b[39m np\u001b[39m.\u001b[39mnan\n\u001b[1;32m    373\u001b[0m \u001b[39m# ScalarFunction provides function and gradient evaluation\u001b[39;00m\n\u001b[0;32m--> 374\u001b[0m sf \u001b[39m=\u001b[39m _prepare_scalar_function(func, x, jac\u001b[39m=\u001b[39;49mjac, args\u001b[39m=\u001b[39;49margs, epsilon\u001b[39m=\u001b[39;49meps,\n\u001b[1;32m    375\u001b[0m                               finite_diff_rel_step\u001b[39m=\u001b[39;49mfinite_diff_rel_step,\n\u001b[1;32m    376\u001b[0m                               bounds\u001b[39m=\u001b[39;49mnew_bounds)\n\u001b[1;32m    377\u001b[0m \u001b[39m# gh11403 SLSQP sometimes exceeds bounds by 1 or 2 ULP, make sure this\u001b[39;00m\n\u001b[1;32m    378\u001b[0m \u001b[39m# doesn't get sent to the func/grad evaluator.\u001b[39;00m\n\u001b[1;32m    379\u001b[0m wrapped_fun \u001b[39m=\u001b[39m _clip_x_for_func(sf\u001b[39m.\u001b[39mfun, new_bounds)\n",
            "File \u001b[0;32m/Library/Frameworks/Python.framework/Versions/3.9/lib/python3.9/site-packages/scipy/optimize/_optimize.py:263\u001b[0m, in \u001b[0;36m_prepare_scalar_function\u001b[0;34m(fun, x0, jac, args, bounds, epsilon, finite_diff_rel_step, hess)\u001b[0m\n\u001b[1;32m    259\u001b[0m     bounds \u001b[39m=\u001b[39m (\u001b[39m-\u001b[39mnp\u001b[39m.\u001b[39minf, np\u001b[39m.\u001b[39minf)\n\u001b[1;32m    261\u001b[0m \u001b[39m# ScalarFunction caches. Reuse of fun(x) during grad\u001b[39;00m\n\u001b[1;32m    262\u001b[0m \u001b[39m# calculation reduces overall function evaluations.\u001b[39;00m\n\u001b[0;32m--> 263\u001b[0m sf \u001b[39m=\u001b[39m ScalarFunction(fun, x0, args, grad, hess,\n\u001b[1;32m    264\u001b[0m                     finite_diff_rel_step, bounds, epsilon\u001b[39m=\u001b[39;49mepsilon)\n\u001b[1;32m    266\u001b[0m \u001b[39mreturn\u001b[39;00m sf\n",
            "File \u001b[0;32m/Library/Frameworks/Python.framework/Versions/3.9/lib/python3.9/site-packages/scipy/optimize/_differentiable_functions.py:158\u001b[0m, in \u001b[0;36mScalarFunction.__init__\u001b[0;34m(self, fun, x0, args, grad, hess, finite_diff_rel_step, finite_diff_bounds, epsilon)\u001b[0m\n\u001b[1;32m    155\u001b[0m     \u001b[39mself\u001b[39m\u001b[39m.\u001b[39mf \u001b[39m=\u001b[39m fun_wrapped(\u001b[39mself\u001b[39m\u001b[39m.\u001b[39mx)\n\u001b[1;32m    157\u001b[0m \u001b[39mself\u001b[39m\u001b[39m.\u001b[39m_update_fun_impl \u001b[39m=\u001b[39m update_fun\n\u001b[0;32m--> 158\u001b[0m \u001b[39mself\u001b[39;49m\u001b[39m.\u001b[39;49m_update_fun()\n\u001b[1;32m    160\u001b[0m \u001b[39m# Gradient evaluation\u001b[39;00m\n\u001b[1;32m    161\u001b[0m \u001b[39mif\u001b[39;00m callable(grad):\n",
            "File \u001b[0;32m/Library/Frameworks/Python.framework/Versions/3.9/lib/python3.9/site-packages/scipy/optimize/_differentiable_functions.py:251\u001b[0m, in \u001b[0;36mScalarFunction._update_fun\u001b[0;34m(self)\u001b[0m\n\u001b[1;32m    249\u001b[0m \u001b[39mdef\u001b[39;00m \u001b[39m_update_fun\u001b[39m(\u001b[39mself\u001b[39m):\n\u001b[1;32m    250\u001b[0m     \u001b[39mif\u001b[39;00m \u001b[39mnot\u001b[39;00m \u001b[39mself\u001b[39m\u001b[39m.\u001b[39mf_updated:\n\u001b[0;32m--> 251\u001b[0m         \u001b[39mself\u001b[39;49m\u001b[39m.\u001b[39;49m_update_fun_impl()\n\u001b[1;32m    252\u001b[0m         \u001b[39mself\u001b[39m\u001b[39m.\u001b[39mf_updated \u001b[39m=\u001b[39m \u001b[39mTrue\u001b[39;00m\n",
            "File \u001b[0;32m/Library/Frameworks/Python.framework/Versions/3.9/lib/python3.9/site-packages/scipy/optimize/_differentiable_functions.py:155\u001b[0m, in \u001b[0;36mScalarFunction.__init__.<locals>.update_fun\u001b[0;34m()\u001b[0m\n\u001b[1;32m    154\u001b[0m \u001b[39mdef\u001b[39;00m \u001b[39mupdate_fun\u001b[39m():\n\u001b[0;32m--> 155\u001b[0m     \u001b[39mself\u001b[39m\u001b[39m.\u001b[39mf \u001b[39m=\u001b[39m fun_wrapped(\u001b[39mself\u001b[39;49m\u001b[39m.\u001b[39;49mx)\n",
            "File \u001b[0;32m/Library/Frameworks/Python.framework/Versions/3.9/lib/python3.9/site-packages/scipy/optimize/_differentiable_functions.py:137\u001b[0m, in \u001b[0;36mScalarFunction.__init__.<locals>.fun_wrapped\u001b[0;34m(x)\u001b[0m\n\u001b[1;32m    133\u001b[0m \u001b[39mself\u001b[39m\u001b[39m.\u001b[39mnfev \u001b[39m+\u001b[39m\u001b[39m=\u001b[39m \u001b[39m1\u001b[39m\n\u001b[1;32m    134\u001b[0m \u001b[39m# Send a copy because the user may overwrite it.\u001b[39;00m\n\u001b[1;32m    135\u001b[0m \u001b[39m# Overwriting results in undefined behaviour because\u001b[39;00m\n\u001b[1;32m    136\u001b[0m \u001b[39m# fun(self.x) will change self.x, with the two no longer linked.\u001b[39;00m\n\u001b[0;32m--> 137\u001b[0m fx \u001b[39m=\u001b[39m fun(np\u001b[39m.\u001b[39;49mcopy(x), \u001b[39m*\u001b[39;49margs)\n\u001b[1;32m    138\u001b[0m \u001b[39m# Make sure the function returns a true scalar\u001b[39;00m\n\u001b[1;32m    139\u001b[0m \u001b[39mif\u001b[39;00m \u001b[39mnot\u001b[39;00m np\u001b[39m.\u001b[39misscalar(fx):\n",
            "File \u001b[0;32m/Library/Frameworks/Python.framework/Versions/3.9/lib/python3.9/site-packages/qiskit/algorithms/minimum_eigen_solvers/vqe.py:620\u001b[0m, in \u001b[0;36mVQE.get_energy_evaluation.<locals>.energy_evaluation\u001b[0;34m(parameters)\u001b[0m\n\u001b[1;32m    617\u001b[0m param_bindings \u001b[39m=\u001b[39m \u001b[39mdict\u001b[39m(\u001b[39mzip\u001b[39m(ansatz_params, parameter_sets\u001b[39m.\u001b[39mtranspose()\u001b[39m.\u001b[39mtolist()))\n\u001b[1;32m    619\u001b[0m start_time \u001b[39m=\u001b[39m time()\n\u001b[0;32m--> 620\u001b[0m sampled_expect_op \u001b[39m=\u001b[39m \u001b[39mself\u001b[39;49m\u001b[39m.\u001b[39;49m_circuit_sampler\u001b[39m.\u001b[39;49mconvert(expect_op, params\u001b[39m=\u001b[39;49mparam_bindings)\n\u001b[1;32m    621\u001b[0m means \u001b[39m=\u001b[39m np\u001b[39m.\u001b[39mreal(sampled_expect_op\u001b[39m.\u001b[39meval())\n\u001b[1;32m    623\u001b[0m \u001b[39mif\u001b[39;00m \u001b[39mself\u001b[39m\u001b[39m.\u001b[39m_callback \u001b[39mis\u001b[39;00m \u001b[39mnot\u001b[39;00m \u001b[39mNone\u001b[39;00m:\n",
            "File \u001b[0;32m/Library/Frameworks/Python.framework/Versions/3.9/lib/python3.9/site-packages/qiskit/opflow/converters/circuit_sampler.py:214\u001b[0m, in \u001b[0;36mCircuitSampler.convert\u001b[0;34m(self, operator, params)\u001b[0m\n\u001b[1;32m    212\u001b[0m circs \u001b[39m=\u001b[39m \u001b[39mlist\u001b[39m(\u001b[39mself\u001b[39m\u001b[39m.\u001b[39m_circuit_ops_cache\u001b[39m.\u001b[39mvalues()) \u001b[39mif\u001b[39;00m \u001b[39mnot\u001b[39;00m \u001b[39mself\u001b[39m\u001b[39m.\u001b[39m_transpiled_circ_cache \u001b[39melse\u001b[39;00m \u001b[39mNone\u001b[39;00m\n\u001b[1;32m    213\u001b[0m p_b \u001b[39m=\u001b[39m cast(List[Dict[Parameter, \u001b[39mfloat\u001b[39m]], param_bindings)\n\u001b[0;32m--> 214\u001b[0m sampled_statefn_dicts \u001b[39m=\u001b[39m \u001b[39mself\u001b[39;49m\u001b[39m.\u001b[39;49msample_circuits(circuit_sfns\u001b[39m=\u001b[39;49mcircs, param_bindings\u001b[39m=\u001b[39;49mp_b)\n\u001b[1;32m    216\u001b[0m \u001b[39mdef\u001b[39;00m \u001b[39mreplace_circuits_with_dicts\u001b[39m(operator, param_index\u001b[39m=\u001b[39m\u001b[39m0\u001b[39m):\n\u001b[1;32m    217\u001b[0m     \u001b[39mif\u001b[39;00m \u001b[39misinstance\u001b[39m(operator, CircuitStateFn):\n",
            "File \u001b[0;32m/Library/Frameworks/Python.framework/Versions/3.9/lib/python3.9/site-packages/qiskit/opflow/converters/circuit_sampler.py:333\u001b[0m, in \u001b[0;36mCircuitSampler.sample_circuits\u001b[0;34m(self, circuit_sfns, param_bindings)\u001b[0m\n\u001b[1;32m    328\u001b[0m \u001b[39mif\u001b[39;00m \u001b[39mself\u001b[39m\u001b[39m.\u001b[39m_transpile_before_bind \u001b[39mand\u001b[39;00m \u001b[39mself\u001b[39m\u001b[39m.\u001b[39mquantum_instance\u001b[39m.\u001b[39mbound_pass_manager \u001b[39mis\u001b[39;00m \u001b[39mnot\u001b[39;00m \u001b[39mNone\u001b[39;00m:\n\u001b[1;32m    329\u001b[0m     ready_circs \u001b[39m=\u001b[39m \u001b[39mself\u001b[39m\u001b[39m.\u001b[39mquantum_instance\u001b[39m.\u001b[39mtranspile(\n\u001b[1;32m    330\u001b[0m         ready_circs, pass_manager\u001b[39m=\u001b[39m\u001b[39mself\u001b[39m\u001b[39m.\u001b[39mquantum_instance\u001b[39m.\u001b[39mbound_pass_manager\n\u001b[1;32m    331\u001b[0m     )\n\u001b[0;32m--> 333\u001b[0m results \u001b[39m=\u001b[39m \u001b[39mself\u001b[39;49m\u001b[39m.\u001b[39;49mquantum_instance\u001b[39m.\u001b[39;49mexecute(\n\u001b[1;32m    334\u001b[0m     ready_circs, had_transpiled\u001b[39m=\u001b[39;49m\u001b[39mself\u001b[39;49m\u001b[39m.\u001b[39;49m_transpile_before_bind\n\u001b[1;32m    335\u001b[0m )\n\u001b[1;32m    337\u001b[0m \u001b[39mif\u001b[39;00m param_bindings \u001b[39mis\u001b[39;00m \u001b[39mnot\u001b[39;00m \u001b[39mNone\u001b[39;00m \u001b[39mand\u001b[39;00m \u001b[39mself\u001b[39m\u001b[39m.\u001b[39m_param_qobj:\n\u001b[1;32m    338\u001b[0m     \u001b[39mself\u001b[39m\u001b[39m.\u001b[39m_clean_parameterized_run_config()\n",
            "File \u001b[0;32m/Library/Frameworks/Python.framework/Versions/3.9/lib/python3.9/site-packages/qiskit/utils/quantum_instance.py:717\u001b[0m, in \u001b[0;36mQuantumInstance.execute\u001b[0;34m(self, circuits, had_transpiled)\u001b[0m\n\u001b[1;32m    714\u001b[0m                 result\u001b[39m.\u001b[39mresults[n] \u001b[39m=\u001b[39m tmp_result\u001b[39m.\u001b[39mresults[i]\n\u001b[1;32m    716\u001b[0m \u001b[39melse\u001b[39;00m:\n\u001b[0;32m--> 717\u001b[0m     result \u001b[39m=\u001b[39m run_circuits(\n\u001b[1;32m    718\u001b[0m         circuits,\n\u001b[1;32m    719\u001b[0m         \u001b[39mself\u001b[39;49m\u001b[39m.\u001b[39;49m_backend,\n\u001b[1;32m    720\u001b[0m         qjob_config\u001b[39m=\u001b[39;49m\u001b[39mself\u001b[39;49m\u001b[39m.\u001b[39;49mqjob_config,\n\u001b[1;32m    721\u001b[0m         backend_options\u001b[39m=\u001b[39;49m\u001b[39mself\u001b[39;49m\u001b[39m.\u001b[39;49mbackend_options,\n\u001b[1;32m    722\u001b[0m         noise_config\u001b[39m=\u001b[39;49m\u001b[39mself\u001b[39;49m\u001b[39m.\u001b[39;49m_noise_config,\n\u001b[1;32m    723\u001b[0m         run_config\u001b[39m=\u001b[39;49m\u001b[39mself\u001b[39;49m\u001b[39m.\u001b[39;49m_run_config\u001b[39m.\u001b[39;49mto_dict(),\n\u001b[1;32m    724\u001b[0m         job_callback\u001b[39m=\u001b[39;49m\u001b[39mself\u001b[39;49m\u001b[39m.\u001b[39;49m_job_callback,\n\u001b[1;32m    725\u001b[0m         max_job_retries\u001b[39m=\u001b[39;49m\u001b[39mself\u001b[39;49m\u001b[39m.\u001b[39;49m_max_job_retries,\n\u001b[1;32m    726\u001b[0m     )\n\u001b[1;32m    727\u001b[0m     \u001b[39mself\u001b[39m\u001b[39m.\u001b[39m_time_taken \u001b[39m+\u001b[39m\u001b[39m=\u001b[39m result\u001b[39m.\u001b[39mtime_taken\n\u001b[1;32m    729\u001b[0m \u001b[39mif\u001b[39;00m \u001b[39mself\u001b[39m\u001b[39m.\u001b[39m_circuit_summary:\n",
            "File \u001b[0;32m/Library/Frameworks/Python.framework/Versions/3.9/lib/python3.9/site-packages/qiskit/utils/run_circuits.py:283\u001b[0m, in \u001b[0;36mrun_circuits\u001b[0;34m(circuits, backend, qjob_config, backend_options, noise_config, run_config, job_callback, max_job_retries)\u001b[0m\n\u001b[1;32m    281\u001b[0m     results \u001b[39m=\u001b[39m []\n\u001b[1;32m    282\u001b[0m     \u001b[39mfor\u001b[39;00m job \u001b[39min\u001b[39;00m jobs:\n\u001b[0;32m--> 283\u001b[0m         results\u001b[39m.\u001b[39mappend(job\u001b[39m.\u001b[39;49mresult())\n\u001b[1;32m    285\u001b[0m result \u001b[39m=\u001b[39m _combine_result_objects(results) \u001b[39mif\u001b[39;00m results \u001b[39melse\u001b[39;00m \u001b[39mNone\u001b[39;00m\n\u001b[1;32m    286\u001b[0m \u001b[39m# If result was not successful then raise an exception with either the status msg or\u001b[39;00m\n\u001b[1;32m    287\u001b[0m \u001b[39m# extra information if this was an Aer partial result return\u001b[39;00m\n",
            "File \u001b[0;32m/Library/Frameworks/Python.framework/Versions/3.9/lib/python3.9/site-packages/qiskit_ibm_provider/job/ibm_circuit_job.py:247\u001b[0m, in \u001b[0;36mIBMCircuitJob.result\u001b[0;34m(self, timeout, refresh)\u001b[0m\n\u001b[1;32m    245\u001b[0m \u001b[39m# pylint: disable=arguments-differ\u001b[39;00m\n\u001b[1;32m    246\u001b[0m \u001b[39mif\u001b[39;00m \u001b[39mself\u001b[39m\u001b[39m.\u001b[39m_result \u001b[39mis\u001b[39;00m \u001b[39mNone\u001b[39;00m \u001b[39mor\u001b[39;00m refresh:\n\u001b[0;32m--> 247\u001b[0m     \u001b[39mself\u001b[39;49m\u001b[39m.\u001b[39;49mwait_for_final_state(timeout\u001b[39m=\u001b[39;49mtimeout)\n\u001b[1;32m    248\u001b[0m     \u001b[39mif\u001b[39;00m \u001b[39mself\u001b[39m\u001b[39m.\u001b[39m_status \u001b[39mis\u001b[39;00m JobStatus\u001b[39m.\u001b[39mCANCELLED:\n\u001b[1;32m    249\u001b[0m         \u001b[39mraise\u001b[39;00m IBMJobInvalidStateError(\n\u001b[1;32m    250\u001b[0m             \u001b[39m\"\u001b[39m\u001b[39mUnable to retrieve result for job \u001b[39m\u001b[39m{}\u001b[39;00m\u001b[39m. \u001b[39m\u001b[39m\"\u001b[39m\n\u001b[1;32m    251\u001b[0m             \u001b[39m\"\u001b[39m\u001b[39mJob was cancelled.\u001b[39m\u001b[39m\"\u001b[39m\u001b[39m.\u001b[39mformat(\u001b[39mself\u001b[39m\u001b[39m.\u001b[39mjob_id())\n\u001b[1;32m    252\u001b[0m         )\n",
            "File \u001b[0;32m/Library/Frameworks/Python.framework/Versions/3.9/lib/python3.9/site-packages/qiskit_ibm_provider/job/ibm_circuit_job.py:642\u001b[0m, in \u001b[0;36mIBMCircuitJob.wait_for_final_state\u001b[0;34m(self, timeout)\u001b[0m\n\u001b[1;32m    638\u001b[0m         \u001b[39mif\u001b[39;00m timeout \u001b[39mis\u001b[39;00m \u001b[39mnot\u001b[39;00m \u001b[39mNone\u001b[39;00m \u001b[39mand\u001b[39;00m elapsed_time \u001b[39m>\u001b[39m\u001b[39m=\u001b[39m timeout:\n\u001b[1;32m    639\u001b[0m             \u001b[39mraise\u001b[39;00m IBMJobTimeoutError(\n\u001b[1;32m    640\u001b[0m                 \u001b[39mf\u001b[39m\u001b[39m\"\u001b[39m\u001b[39mTimed out waiting for job to complete after \u001b[39m\u001b[39m{\u001b[39;00mtimeout\u001b[39m}\u001b[39;00m\u001b[39m secs.\u001b[39m\u001b[39m\"\u001b[39m\n\u001b[1;32m    641\u001b[0m             )\n\u001b[0;32m--> 642\u001b[0m         time\u001b[39m.\u001b[39;49msleep(\u001b[39m3\u001b[39;49m)\n\u001b[1;32m    643\u001b[0m         status \u001b[39m=\u001b[39m \u001b[39mself\u001b[39m\u001b[39m.\u001b[39mstatus()\n\u001b[1;32m    644\u001b[0m \u001b[39mexcept\u001b[39;00m futures\u001b[39m.\u001b[39mTimeoutError:\n",
            "\u001b[0;31mKeyboardInterrupt\u001b[0m: "
          ]
        }
      ],
      "source": [
        "hub = \"ibm-q\"#\"qhack-event\"\n",
        "group = \"open\"#\"main\"\n",
        "project = \"main\"#\"project-1\"\n",
        "backend_name = \"ibm_perth\"\n",
        "hgp = f\"{hub}/{group}/{project}\"\n",
        "\n",
        "provider = IBMProvider()\n",
        "backend = provider.get_backend(backend_name, instance=hgp)\n",
        "\n",
        "\n",
        "\n",
        "qi = QuantumInstance(backend)\n",
        "distances1 = np.arange(0.5, 2.0, 0.2)\n",
        "distances2 = np.arange(2.1, 4.0, 0.4)\n",
        "distances = np.concatenate([distances1, distances2])\n",
        "exact_energies = []\n",
        "vqe_energies = []\n",
        "vqe_energy_numbers = []\n",
        "exact_energy_numbers = []\n",
        "\n",
        "optimizer = SLSQP(maxiter=5)\n",
        "for dist in distances:\n",
        "    molecule = Molecule(geometry=[\n",
        "        [\"H\", [0.0, 0.0, dist]],\n",
        "        [\"Be\", [0.0, 0.0, 0.0]],\n",
        "        [\"H\", [0.0, 0.0, -dist]]\n",
        "    ],\n",
        "        multiplicity=1,  # = 2*spin + 1\n",
        "        charge=0,\n",
        "    )\n",
        "\n",
        "    driver = ElectronicStructureMoleculeDriver(\n",
        "        molecule=molecule, basis=\"sto3g\", driver_type=ElectronicStructureDriverType.PYSCF)\n",
        "    # Get properties\n",
        "    properties = driver.run()\n",
        "    num_particles = (properties.get_property(\"ParticleNumber\").num_particles)\n",
        "    num_spin_orbitals = int(properties.get_property(\n",
        "        \"ParticleNumber\").num_spin_orbitals)\n",
        "    # Define Problem, Use freeze core approximation, remove orbitals.\n",
        "    problem = ElectronicStructureProblem(\n",
        "        driver, [FreezeCoreTransformer(freeze_core=True, remove_orbitals=[4, 5])])\n",
        "    second_q_ops = problem.second_q_ops()  # Get 2nd Quant OP\n",
        "    num_spin_orbitals = problem.num_spin_orbitals\n",
        "    num_particles = problem.num_particles\n",
        "  \n",
        "    exact_energies.append(exact_solver(problem))\n",
        "    circuit = HEA_naive(6, 3)[0]\n",
        "    VQE_circuit = VQE(ansatz=circuit, quantum_instance=qi, optimizer=optimizer)\n",
        "    vqe_energies.append(vqe_solver(problem, VQE_circuit))\n",
        "\n",
        "    vqe_energy = str(vqe_energies[-1]).split(\":\")[5].split()[0]\n",
        "    vqe_energy_numbers.append(float(vqe_energy))\n",
        "    exact_energy = str(exact_energies[-1]).split(\":\")[5].split()[0]\n",
        "    exact_energy_numbers.append(float(exact_energy))\n",
        "    print(f\"Length {dist} VQE Energy {vqe_energy} Exact Energy {exact_energy}\")\n"
      ]
    },
    {
      "cell_type": "code",
      "execution_count": 11,
      "metadata": {},
      "outputs": [
        {
          "data": {
            "text/plain": [
              "Text(0.5, 1.0, 'BeH2')"
            ]
          },
          "execution_count": 11,
          "metadata": {},
          "output_type": "execute_result"
        },
        {
          "data": {
            "image/png": "[encoded data removed]",
            "text/plain": [
              "<Figure size 640x480 with 1 Axes>"
            ]
          },
          "metadata": {},
          "output_type": "display_data"
        }
      ],
      "source": [
        "x = distances\n",
        "y = vqe_energy_numbers\n",
        "y2 = exact_energy_numbers\n",
        "plt.scatter(x, y, label='VQE', color='black')\n",
        "plt.plot(x, y2, label='Real', color='blue')\n",
        "plt.xlim(0.5, 3.7)\n",
        "plt.ylim(-15.7, -12)\n",
        "plt.xlabel('Angstroms')\n",
        "plt.ylabel('Hartree')\n",
        "plt.legend()\n",
        "plt.title('BeH2')\n"
      ]
    }
  ],
  "metadata": {
    "colab": {
      "provenance": []
    },
    "kernelspec": {
      "display_name": "Python 3",
      "language": "python",
      "name": "python3"
    },
    "language_info": {
      "codemirror_mode": {
        "name": "ipython",
        "version": 3
      },
      "file_extension": ".py",
      "mimetype": "text/x-python",
      "name": "python",
      "nbconvert_exporter": "python",
      "pygments_lexer": "ipython3",
      "version": "3.9.2"
    },
    "vscode": {
      "interpreter": {
        "hash": "7812ea015bdcee6f23a998adcdd2ef97c151c0c241b7b7070987d9313e41299d"
      }
    }
  },
  "nbformat": 4,
  "nbformat_minor": 0
}
